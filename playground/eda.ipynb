{
  "cells": [
    {
      "cell_type": "markdown",
      "metadata": {
        "id": "view-in-github",
        "colab_type": "text"
      },
      "source": [
        "<a href=\"https://colab.research.google.com/github/shelleyg-bit/canada-land-cover-classifier/blob/main/eda.ipynb\" target=\"_parent\"><img src=\"https://colab.research.google.com/assets/colab-badge.svg\" alt=\"Open In Colab\"/></a>"
      ]
    },
    {
      "cell_type": "code",
      "source": [
        "from google.colab import drive\n",
        "drive.mount('/content/drive', force_remount=True)"
      ],
      "metadata": {
        "colab": {
          "base_uri": "https://localhost:8080/"
        },
        "id": "z-gViLDEYrHR",
        "outputId": "8ca807cb-8488-4376-f99e-ab0bd49c315c"
      },
      "execution_count": 2,
      "outputs": [
        {
          "output_type": "stream",
          "name": "stdout",
          "text": [
            "Mounted at /content/drive\n"
          ]
        }
      ]
    },
    {
      "cell_type": "code",
      "source": [
        "!pip install rasterio"
      ],
      "metadata": {
        "colab": {
          "base_uri": "https://localhost:8080/"
        },
        "id": "bYhydhboZtCt",
        "outputId": "5e16cadf-620e-4bec-e4d0-f3a04c5396f3"
      },
      "execution_count": 3,
      "outputs": [
        {
          "output_type": "stream",
          "name": "stdout",
          "text": [
            "Collecting rasterio\n",
            "  Downloading rasterio-1.2.10-cp37-cp37m-manylinux1_x86_64.whl (19.3 MB)\n",
            "\u001b[K     |████████████████████████████████| 19.3 MB 7.7 MB/s \n",
            "\u001b[?25hRequirement already satisfied: setuptools in /usr/local/lib/python3.7/dist-packages (from rasterio) (57.4.0)\n",
            "Requirement already satisfied: certifi in /usr/local/lib/python3.7/dist-packages (from rasterio) (2021.10.8)\n",
            "Collecting cligj>=0.5\n",
            "  Downloading cligj-0.7.2-py3-none-any.whl (7.1 kB)\n",
            "Collecting snuggs>=1.4.1\n",
            "  Downloading snuggs-1.4.7-py3-none-any.whl (5.4 kB)\n",
            "Collecting click-plugins\n",
            "  Downloading click_plugins-1.1.1-py2.py3-none-any.whl (7.5 kB)\n",
            "Requirement already satisfied: numpy in /usr/local/lib/python3.7/dist-packages (from rasterio) (1.21.6)\n",
            "Collecting affine\n",
            "  Downloading affine-2.3.1-py2.py3-none-any.whl (16 kB)\n",
            "Requirement already satisfied: click>=4.0 in /usr/local/lib/python3.7/dist-packages (from rasterio) (7.1.2)\n",
            "Requirement already satisfied: attrs in /usr/local/lib/python3.7/dist-packages (from rasterio) (21.4.0)\n",
            "Requirement already satisfied: pyparsing>=2.1.6 in /usr/local/lib/python3.7/dist-packages (from snuggs>=1.4.1->rasterio) (3.0.8)\n",
            "Installing collected packages: snuggs, cligj, click-plugins, affine, rasterio\n",
            "Successfully installed affine-2.3.1 click-plugins-1.1.1 cligj-0.7.2 rasterio-1.2.10 snuggs-1.4.7\n"
          ]
        }
      ]
    },
    {
      "cell_type": "code",
      "execution_count": 4,
      "metadata": {
        "id": "bnXLmbdUYloe"
      },
      "outputs": [],
      "source": [
        "import numpy as np\n",
        "import matplotlib.pyplot as plt\n",
        "from IPython.display import Image\n",
        "from matplotlib import cm"
      ]
    },
    {
      "cell_type": "code",
      "execution_count": 5,
      "metadata": {
        "id": "J9JkHnpNYlog"
      },
      "outputs": [],
      "source": [
        "import rasterio as rio\n",
        "import pandas as pd\n",
        "import seaborn as sns"
      ]
    },
    {
      "cell_type": "markdown",
      "metadata": {
        "id": "fLqaOYT0Yloh"
      },
      "source": [
        "# Data Load"
      ]
    },
    {
      "cell_type": "code",
      "execution_count": 6,
      "metadata": {
        "id": "pQzDx4MqYloi"
      },
      "outputs": [],
      "source": [
        "tif_filepath = '/content/drive/MyDrive/nrcan/sentinel_nrcan.tif'\n",
        "data = rio.open(tif_filepath)"
      ]
    },
    {
      "cell_type": "code",
      "execution_count": 7,
      "metadata": {
        "colab": {
          "base_uri": "https://localhost:8080/"
        },
        "id": "oYknuR7dYloi",
        "outputId": "196990fc-f4ed-4d98-d941-0b7005378c7a"
      },
      "outputs": [
        {
          "output_type": "stream",
          "name": "stdout",
          "text": [
            "2500 1771 13 BoundingBox(left=-74.171447754, bottom=45.96451541520898, right=-71.7489624024375, top=47.144897486) \n",
            " | 0.00, 0.00,-74.17|\n",
            "| 0.00,-0.00, 47.14|\n",
            "| 0.00, 0.00, 1.00| \n",
            " EPSG:4326\n"
          ]
        },
        {
          "output_type": "execute_result",
          "data": {
            "text/plain": [
              "4427500"
            ]
          },
          "metadata": {},
          "execution_count": 7
        }
      ],
      "source": [
        "print(data.width, data.height, data.count, data.bounds, f\"\\n {data.transform}\", \"\\n\", data.crs)\n",
        "width = data.width\n",
        "height = data.height\n",
        "height*width"
      ]
    },
    {
      "cell_type": "code",
      "execution_count": 8,
      "metadata": {
        "id": "oIm3BlINYloj"
      },
      "outputs": [],
      "source": [
        "data_list = []\n",
        "for i in range(13):\n",
        "    if i < 9:\n",
        "        name = f'band{i+1:02d}'\n",
        "    elif (i == 9)  | (i == 10):\n",
        "        name = f'band{i+2:02d}'\n",
        "    elif i == 11:\n",
        "        name = f'band8a'\n",
        "    elif i == 12:\n",
        "        name = f'land_type'\n",
        "    band_i = pd.Series(data.read(i+1).flatten(), name=name)\n",
        "    data_list.append(band_i)\n"
      ]
    },
    {
      "cell_type": "code",
      "execution_count": 9,
      "metadata": {
        "colab": {
          "base_uri": "https://localhost:8080/"
        },
        "id": "J3Vn_FrBYlok",
        "outputId": "2c924766-16bb-45a5-b671-2f1556ccc587"
      },
      "outputs": [
        {
          "output_type": "stream",
          "name": "stdout",
          "text": [
            "band01 0.3068\n",
            "band02 0.2572\n",
            "band03 0.2449\n",
            "band04 0.2263\n",
            "band05 0.2482\n",
            "band06 0.2813\n",
            "band07 0.2894\n",
            "band08 0.2943\n",
            "band09 0.3833\n",
            "band11 0.2308\n",
            "band12 0.1814\n",
            "band8a 0.2921\n",
            "land_type 6.0\n"
          ]
        }
      ],
      "source": [
        "for i in range(13):\n",
        "    print(data_list[i].name, data_list[i][1])"
      ]
    },
    {
      "cell_type": "code",
      "execution_count": 10,
      "metadata": {
        "id": "n-oLk_egYlok"
      },
      "outputs": [],
      "source": [
        "df_raw = pd.concat(data_list, axis=1, keys=[s.name for s in data_list])"
      ]
    },
    {
      "cell_type": "code",
      "execution_count": 11,
      "metadata": {
        "colab": {
          "base_uri": "https://localhost:8080/",
          "height": 206
        },
        "id": "-aTrXe1cYlol",
        "outputId": "26f37b06-0f0c-446e-b5ca-beba857f471a"
      },
      "outputs": [
        {
          "output_type": "execute_result",
          "data": {
            "text/plain": [
              "   band01  band02  band03  band04  band05  band06  band07  band08  band09  \\\n",
              "0  0.2226  0.2033  0.2095  0.1944  0.2104  0.2375  0.2358  0.2584  0.3188   \n",
              "1  0.3068  0.2572  0.2449  0.2263  0.2482  0.2813  0.2894  0.2943  0.3833   \n",
              "2  0.3851  0.3290  0.3116  0.3010  0.3312  0.3579  0.3695  0.3420  0.4621   \n",
              "3  0.4392  0.4069  0.3865  0.3774  0.4114  0.4332  0.4422  0.4113  0.5130   \n",
              "4  0.4378  0.4235  0.4058  0.3930  0.4168  0.4282  0.4254  0.4364  0.5176   \n",
              "\n",
              "   band11  band12  band8a  land_type  \n",
              "0  0.1967  0.1273  0.2301        1.0  \n",
              "1  0.2308  0.1814  0.2921        6.0  \n",
              "2  0.2969  0.2354  0.3778        6.0  \n",
              "3  0.3676  0.3126  0.4477        1.0  \n",
              "4  0.3687  0.2783  0.4234        1.0  "
            ],
            "text/html": [
              "\n",
              "  <div id=\"df-ca64f3ea-1f15-41df-9d95-6fb3b95c98cd\">\n",
              "    <div class=\"colab-df-container\">\n",
              "      <div>\n",
              "<style scoped>\n",
              "    .dataframe tbody tr th:only-of-type {\n",
              "        vertical-align: middle;\n",
              "    }\n",
              "\n",
              "    .dataframe tbody tr th {\n",
              "        vertical-align: top;\n",
              "    }\n",
              "\n",
              "    .dataframe thead th {\n",
              "        text-align: right;\n",
              "    }\n",
              "</style>\n",
              "<table border=\"1\" class=\"dataframe\">\n",
              "  <thead>\n",
              "    <tr style=\"text-align: right;\">\n",
              "      <th></th>\n",
              "      <th>band01</th>\n",
              "      <th>band02</th>\n",
              "      <th>band03</th>\n",
              "      <th>band04</th>\n",
              "      <th>band05</th>\n",
              "      <th>band06</th>\n",
              "      <th>band07</th>\n",
              "      <th>band08</th>\n",
              "      <th>band09</th>\n",
              "      <th>band11</th>\n",
              "      <th>band12</th>\n",
              "      <th>band8a</th>\n",
              "      <th>land_type</th>\n",
              "    </tr>\n",
              "  </thead>\n",
              "  <tbody>\n",
              "    <tr>\n",
              "      <th>0</th>\n",
              "      <td>0.2226</td>\n",
              "      <td>0.2033</td>\n",
              "      <td>0.2095</td>\n",
              "      <td>0.1944</td>\n",
              "      <td>0.2104</td>\n",
              "      <td>0.2375</td>\n",
              "      <td>0.2358</td>\n",
              "      <td>0.2584</td>\n",
              "      <td>0.3188</td>\n",
              "      <td>0.1967</td>\n",
              "      <td>0.1273</td>\n",
              "      <td>0.2301</td>\n",
              "      <td>1.0</td>\n",
              "    </tr>\n",
              "    <tr>\n",
              "      <th>1</th>\n",
              "      <td>0.3068</td>\n",
              "      <td>0.2572</td>\n",
              "      <td>0.2449</td>\n",
              "      <td>0.2263</td>\n",
              "      <td>0.2482</td>\n",
              "      <td>0.2813</td>\n",
              "      <td>0.2894</td>\n",
              "      <td>0.2943</td>\n",
              "      <td>0.3833</td>\n",
              "      <td>0.2308</td>\n",
              "      <td>0.1814</td>\n",
              "      <td>0.2921</td>\n",
              "      <td>6.0</td>\n",
              "    </tr>\n",
              "    <tr>\n",
              "      <th>2</th>\n",
              "      <td>0.3851</td>\n",
              "      <td>0.3290</td>\n",
              "      <td>0.3116</td>\n",
              "      <td>0.3010</td>\n",
              "      <td>0.3312</td>\n",
              "      <td>0.3579</td>\n",
              "      <td>0.3695</td>\n",
              "      <td>0.3420</td>\n",
              "      <td>0.4621</td>\n",
              "      <td>0.2969</td>\n",
              "      <td>0.2354</td>\n",
              "      <td>0.3778</td>\n",
              "      <td>6.0</td>\n",
              "    </tr>\n",
              "    <tr>\n",
              "      <th>3</th>\n",
              "      <td>0.4392</td>\n",
              "      <td>0.4069</td>\n",
              "      <td>0.3865</td>\n",
              "      <td>0.3774</td>\n",
              "      <td>0.4114</td>\n",
              "      <td>0.4332</td>\n",
              "      <td>0.4422</td>\n",
              "      <td>0.4113</td>\n",
              "      <td>0.5130</td>\n",
              "      <td>0.3676</td>\n",
              "      <td>0.3126</td>\n",
              "      <td>0.4477</td>\n",
              "      <td>1.0</td>\n",
              "    </tr>\n",
              "    <tr>\n",
              "      <th>4</th>\n",
              "      <td>0.4378</td>\n",
              "      <td>0.4235</td>\n",
              "      <td>0.4058</td>\n",
              "      <td>0.3930</td>\n",
              "      <td>0.4168</td>\n",
              "      <td>0.4282</td>\n",
              "      <td>0.4254</td>\n",
              "      <td>0.4364</td>\n",
              "      <td>0.5176</td>\n",
              "      <td>0.3687</td>\n",
              "      <td>0.2783</td>\n",
              "      <td>0.4234</td>\n",
              "      <td>1.0</td>\n",
              "    </tr>\n",
              "  </tbody>\n",
              "</table>\n",
              "</div>\n",
              "      <button class=\"colab-df-convert\" onclick=\"convertToInteractive('df-ca64f3ea-1f15-41df-9d95-6fb3b95c98cd')\"\n",
              "              title=\"Convert this dataframe to an interactive table.\"\n",
              "              style=\"display:none;\">\n",
              "        \n",
              "  <svg xmlns=\"http://www.w3.org/2000/svg\" height=\"24px\"viewBox=\"0 0 24 24\"\n",
              "       width=\"24px\">\n",
              "    <path d=\"M0 0h24v24H0V0z\" fill=\"none\"/>\n",
              "    <path d=\"M18.56 5.44l.94 2.06.94-2.06 2.06-.94-2.06-.94-.94-2.06-.94 2.06-2.06.94zm-11 1L8.5 8.5l.94-2.06 2.06-.94-2.06-.94L8.5 2.5l-.94 2.06-2.06.94zm10 10l.94 2.06.94-2.06 2.06-.94-2.06-.94-.94-2.06-.94 2.06-2.06.94z\"/><path d=\"M17.41 7.96l-1.37-1.37c-.4-.4-.92-.59-1.43-.59-.52 0-1.04.2-1.43.59L10.3 9.45l-7.72 7.72c-.78.78-.78 2.05 0 2.83L4 21.41c.39.39.9.59 1.41.59.51 0 1.02-.2 1.41-.59l7.78-7.78 2.81-2.81c.8-.78.8-2.07 0-2.86zM5.41 20L4 18.59l7.72-7.72 1.47 1.35L5.41 20z\"/>\n",
              "  </svg>\n",
              "      </button>\n",
              "      \n",
              "  <style>\n",
              "    .colab-df-container {\n",
              "      display:flex;\n",
              "      flex-wrap:wrap;\n",
              "      gap: 12px;\n",
              "    }\n",
              "\n",
              "    .colab-df-convert {\n",
              "      background-color: #E8F0FE;\n",
              "      border: none;\n",
              "      border-radius: 50%;\n",
              "      cursor: pointer;\n",
              "      display: none;\n",
              "      fill: #1967D2;\n",
              "      height: 32px;\n",
              "      padding: 0 0 0 0;\n",
              "      width: 32px;\n",
              "    }\n",
              "\n",
              "    .colab-df-convert:hover {\n",
              "      background-color: #E2EBFA;\n",
              "      box-shadow: 0px 1px 2px rgba(60, 64, 67, 0.3), 0px 1px 3px 1px rgba(60, 64, 67, 0.15);\n",
              "      fill: #174EA6;\n",
              "    }\n",
              "\n",
              "    [theme=dark] .colab-df-convert {\n",
              "      background-color: #3B4455;\n",
              "      fill: #D2E3FC;\n",
              "    }\n",
              "\n",
              "    [theme=dark] .colab-df-convert:hover {\n",
              "      background-color: #434B5C;\n",
              "      box-shadow: 0px 1px 3px 1px rgba(0, 0, 0, 0.15);\n",
              "      filter: drop-shadow(0px 1px 2px rgba(0, 0, 0, 0.3));\n",
              "      fill: #FFFFFF;\n",
              "    }\n",
              "  </style>\n",
              "\n",
              "      <script>\n",
              "        const buttonEl =\n",
              "          document.querySelector('#df-ca64f3ea-1f15-41df-9d95-6fb3b95c98cd button.colab-df-convert');\n",
              "        buttonEl.style.display =\n",
              "          google.colab.kernel.accessAllowed ? 'block' : 'none';\n",
              "\n",
              "        async function convertToInteractive(key) {\n",
              "          const element = document.querySelector('#df-ca64f3ea-1f15-41df-9d95-6fb3b95c98cd');\n",
              "          const dataTable =\n",
              "            await google.colab.kernel.invokeFunction('convertToInteractive',\n",
              "                                                     [key], {});\n",
              "          if (!dataTable) return;\n",
              "\n",
              "          const docLinkHtml = 'Like what you see? Visit the ' +\n",
              "            '<a target=\"_blank\" href=https://colab.research.google.com/notebooks/data_table.ipynb>data table notebook</a>'\n",
              "            + ' to learn more about interactive tables.';\n",
              "          element.innerHTML = '';\n",
              "          dataTable['output_type'] = 'display_data';\n",
              "          await google.colab.output.renderOutput(dataTable, element);\n",
              "          const docLink = document.createElement('div');\n",
              "          docLink.innerHTML = docLinkHtml;\n",
              "          element.appendChild(docLink);\n",
              "        }\n",
              "      </script>\n",
              "    </div>\n",
              "  </div>\n",
              "  "
            ]
          },
          "metadata": {},
          "execution_count": 11
        }
      ],
      "source": [
        "df_raw.head()"
      ]
    },
    {
      "cell_type": "code",
      "execution_count": 52,
      "metadata": {
        "colab": {
          "base_uri": "https://localhost:8080/"
        },
        "id": "l7MOm0qmYlom",
        "outputId": "38fb095a-47a1-43fe-da81-eee3fcf95761"
      },
      "outputs": [
        {
          "output_type": "execute_result",
          "data": {
            "text/plain": [
              "6     1535146\n",
              "5     1131918\n",
              "15     803409\n",
              "1      347161\n",
              "18     338687\n",
              "17     151530\n",
              "8       40241\n",
              "14      36066\n",
              "16      26417\n",
              "10      16925\n",
              "Name: land_type, dtype: int64"
            ]
          },
          "metadata": {},
          "execution_count": 52
        }
      ],
      "source": [
        "df_raw = df_raw.astype({'land_type': np.uint8})\n",
        "df_raw.land_type.value_counts()\n"
      ]
    },
    {
      "cell_type": "markdown",
      "metadata": {
        "id": "mLMXSIdHYlom"
      },
      "source": [
        "# ML Classifier"
      ]
    },
    {
      "cell_type": "code",
      "execution_count": 53,
      "metadata": {
        "id": "6NO8LgpSYlon"
      },
      "outputs": [],
      "source": [
        "from sklearn.ensemble import RandomForestClassifier\n",
        "from sklearn.datasets import make_classification\n",
        "from sklearn.model_selection import train_test_split\n",
        "from sklearn import metrics\n",
        "from sklearn.metrics import accuracy_score\n",
        "from sklearn.preprocessing import StandardScaler\n",
        "from sklearn.metrics import confusion_matrix"
      ]
    },
    {
      "cell_type": "markdown",
      "metadata": {
        "id": "4qkoemlTYlon"
      },
      "source": [
        "## Data prep"
      ]
    },
    {
      "cell_type": "code",
      "execution_count": 117,
      "metadata": {
        "id": "dupmRDnRYlon"
      },
      "outputs": [],
      "source": [
        "SAMPLE_SIZE = df_raw.shape[0] \n",
        "df = df_raw[0:SAMPLE_SIZE]"
      ]
    },
    {
      "cell_type": "markdown",
      "source": [
        "### Resample by balancing out the classes"
      ],
      "metadata": {
        "id": "jOeiHff7fR-x"
      }
    },
    {
      "cell_type": "code",
      "source": [
        "labels = df_raw.land_type.value_counts().sort_values(ascending=False)\n",
        "labels"
      ],
      "metadata": {
        "colab": {
          "base_uri": "https://localhost:8080/"
        },
        "id": "r55JhLVsfHk1",
        "outputId": "84fe5d59-b8c5-421d-e76d-7c548c1c79a4"
      },
      "execution_count": 118,
      "outputs": [
        {
          "output_type": "execute_result",
          "data": {
            "text/plain": [
              "6     1535146\n",
              "5     1131918\n",
              "15     803409\n",
              "1      347161\n",
              "18     338687\n",
              "17     151530\n",
              "8       40241\n",
              "14      36066\n",
              "16      26417\n",
              "10      16925\n",
              "Name: land_type, dtype: int64"
            ]
          },
          "metadata": {},
          "execution_count": 118
        }
      ]
    },
    {
      "cell_type": "code",
      "source": [
        "median_label_count = labels.min()\n",
        "median_label_count"
      ],
      "metadata": {
        "colab": {
          "base_uri": "https://localhost:8080/"
        },
        "id": "FSpyWdVffK8W",
        "outputId": "d301ff62-3b3c-4251-81cd-4556e2e6cbdc"
      },
      "execution_count": 119,
      "outputs": [
        {
          "output_type": "execute_result",
          "data": {
            "text/plain": [
              "16925"
            ]
          },
          "metadata": {},
          "execution_count": 119
        }
      ]
    },
    {
      "cell_type": "code",
      "source": [
        "from __future__ import division"
      ],
      "metadata": {
        "id": "MyeMFa27xV9I"
      },
      "execution_count": 120,
      "outputs": []
    },
    {
      "cell_type": "code",
      "source": [
        "for label,count in labels.iteritems():\n",
        "    excess = int(count - median_label_count)\n",
        "    print(excess / median_label_count, label)\n",
        "    if (excess  > 0.10 * median_label_count):\n",
        "        remove = np.random.choice((df[(df.land_type == label)]).index, excess, replace=False)\n",
        "        df.drop(remove, inplace=True)\n",
        "        print(remove[0:10])\n",
        "\n",
        "df.reset_index(inplace=True)\n",
        "    "
      ],
      "metadata": {
        "colab": {
          "base_uri": "https://localhost:8080/"
        },
        "id": "TYn9YAQ0or_4",
        "outputId": "31247b2d-bcef-4124-e331-97c0058c305b"
      },
      "execution_count": 121,
      "outputs": [
        {
          "output_type": "stream",
          "name": "stdout",
          "text": [
            "89.70286558345643 6\n"
          ]
        },
        {
          "output_type": "stream",
          "name": "stderr",
          "text": [
            "/usr/local/lib/python3.7/dist-packages/pandas/core/frame.py:4913: SettingWithCopyWarning: \n",
            "A value is trying to be set on a copy of a slice from a DataFrame\n",
            "\n",
            "See the caveats in the documentation: https://pandas.pydata.org/pandas-docs/stable/user_guide/indexing.html#returning-a-view-versus-a-copy\n",
            "  errors=errors,\n"
          ]
        },
        {
          "output_type": "stream",
          "name": "stdout",
          "text": [
            "[4388582  322498 1985762  640170 1890329 2343068 3948689 1055769 2111868\n",
            " 1920620]\n",
            "65.87846381093058 5\n",
            "[1116839  882183 2223363 2322081 3126796 2820688 1189146 1402295 3707197\n",
            " 3732890]\n",
            "46.46877400295421 15\n",
            "[1614672 2976467 2579454 3928891 2394037 3319607 3445775 4255724 3109017\n",
            " 3881049]\n",
            "19.5117282127031 1\n",
            "[2228041  965784  760896   60376  822459   88923 1651604  937074  327476\n",
            "  868335]\n",
            "19.011048744460858 18\n",
            "[4100398 1242807 1441121 2685894  520130 4100413 3414000 1130996  457313\n",
            " 3461414]\n",
            "7.953028064992615 17\n",
            "[2003646 2733743 3188311 2594999  358127 1332277 4187118 4312507 1809040\n",
            " 3953496]\n",
            "1.3776070901033974 8\n",
            "[1135398 4113748 3314864 1651794    5690 3015250  621114 2809207 3221260\n",
            " 3184067]\n",
            "1.130930576070901 14\n",
            "[4400847 4121887 2201616 1707260 3397224 3617704 2952210 1600198 3354596\n",
            " 3619682]\n",
            "0.5608271787296898 16\n",
            "[2931672 2021539  615353 2137853  183373  939442 2624109 1767175 2081929\n",
            " 1811509]\n",
            "0.0 10\n"
          ]
        }
      ]
    },
    {
      "cell_type": "code",
      "source": [
        "df.index"
      ],
      "metadata": {
        "colab": {
          "base_uri": "https://localhost:8080/"
        },
        "id": "av7OZtLmvEbm",
        "outputId": "3d28957e-854b-48c1-f1d3-58c1c80c628d"
      },
      "execution_count": 122,
      "outputs": [
        {
          "output_type": "execute_result",
          "data": {
            "text/plain": [
              "RangeIndex(start=0, stop=169250, step=1)"
            ]
          },
          "metadata": {},
          "execution_count": 122
        }
      ]
    },
    {
      "cell_type": "code",
      "execution_count": 123,
      "metadata": {
        "colab": {
          "base_uri": "https://localhost:8080/"
        },
        "id": "jgKS0cUUYlon",
        "outputId": "ba5bc243-a8d3-468b-f318-4c603a09fb5f"
      },
      "outputs": [
        {
          "output_type": "execute_result",
          "data": {
            "text/plain": [
              "6     16925\n",
              "8     16925\n",
              "14    16925\n",
              "18    16925\n",
              "16    16925\n",
              "10    16925\n",
              "1     16925\n",
              "5     16925\n",
              "17    16925\n",
              "15    16925\n",
              "Name: land_type, dtype: int64"
            ]
          },
          "metadata": {},
          "execution_count": 123
        }
      ],
      "source": [
        "df.land_type.value_counts().sort_values()"
      ]
    },
    {
      "cell_type": "markdown",
      "metadata": {
        "id": "qA6LANH5Yloo"
      },
      "source": [
        "### Normalizing feature values"
      ]
    },
    {
      "cell_type": "code",
      "execution_count": 124,
      "metadata": {
        "id": "GX1n0AqyYloo"
      },
      "outputs": [],
      "source": [
        "y = df.land_type\n",
        "X = df.drop(['land_type'], axis=1)\n",
        "columns = X.columns\n",
        "\n",
        "# Standardize features by removing the mean and scaling to unit variance\n",
        "scaler = StandardScaler()\n",
        "X = scaler.fit_transform(X)"
      ]
    },
    {
      "cell_type": "markdown",
      "metadata": {
        "id": "mXKvJWrhYloo"
      },
      "source": [
        "## Training the model"
      ]
    },
    {
      "cell_type": "code",
      "execution_count": 125,
      "metadata": {
        "colab": {
          "base_uri": "https://localhost:8080/"
        },
        "id": "LKqbDL6AYloo",
        "outputId": "4bd1bd3f-ce5e-484e-f71f-4b9e3824bec6"
      },
      "outputs": [
        {
          "output_type": "stream",
          "name": "stdout",
          "text": [
            "(135400, 13) (33850, 13) (135400,) (33850,)\n"
          ]
        }
      ],
      "source": [
        "X_train, X_test, y_train, y_test = train_test_split(X, y, test_size=0.2, random_state=42)\n",
        "\n",
        "print(X_train.shape, X_test.shape, y_train.shape, y_test.shape)"
      ]
    },
    {
      "cell_type": "code",
      "source": [
        "import tensorflow as tf\n",
        "tf.test.gpu_device_name()"
      ],
      "metadata": {
        "colab": {
          "base_uri": "https://localhost:8080/",
          "height": 35
        },
        "id": "70bGtBbueH4S",
        "outputId": "404f759d-ecf6-4939-9e75-2a54e1e595bc"
      },
      "execution_count": 126,
      "outputs": [
        {
          "output_type": "execute_result",
          "data": {
            "text/plain": [
              "'/device:GPU:0'"
            ],
            "application/vnd.google.colaboratory.intrinsic+json": {
              "type": "string"
            }
          },
          "metadata": {},
          "execution_count": 126
        }
      ]
    },
    {
      "cell_type": "code",
      "execution_count": 134,
      "metadata": {
        "colab": {
          "base_uri": "https://localhost:8080/"
        },
        "id": "8oKbjYYKYlop",
        "outputId": "e421f093-c41f-4684-c512-1a89f1f4a779"
      },
      "outputs": [
        {
          "output_type": "execute_result",
          "data": {
            "text/plain": [
              "RandomForestClassifier(max_depth=10, max_features='sqrt', min_samples_leaf=10,\n",
              "                       n_estimators=200)"
            ]
          },
          "metadata": {},
          "execution_count": 134
        }
      ],
      "source": [
        "clf=RandomForestClassifier(n_estimators=200, max_features='sqrt', min_samples_leaf=10, max_depth=10)\n",
        "clf.fit(X_train,y_train)\n"
      ]
    },
    {
      "cell_type": "markdown",
      "metadata": {
        "id": "P3raiwWKYlop"
      },
      "source": [
        "## Prediction"
      ]
    },
    {
      "cell_type": "code",
      "execution_count": 135,
      "metadata": {
        "id": "iO_JaOhTYlop"
      },
      "outputs": [],
      "source": [
        "y_pred=clf.predict(X_test)"
      ]
    },
    {
      "cell_type": "code",
      "execution_count": 141,
      "metadata": {
        "colab": {
          "base_uri": "https://localhost:8080/"
        },
        "id": "BKyTLeYTYlop",
        "outputId": "9cb773a5-eea8-4e9f-e2d7-abcf30c6e685"
      },
      "outputs": [
        {
          "output_type": "stream",
          "name": "stdout",
          "text": [
            "Balanced Accuracy: 0.36701513875885117\n"
          ]
        }
      ],
      "source": [
        "print(\"Balanced Accuracy:\", metrics.balanced_accuracy_score(y_test, y_pred))"
      ]
    },
    {
      "cell_type": "code",
      "source": [
        "print(\"Normal Accuracy:\", metrics.accuracy_score(y_test, y_pred, normalize=True))"
      ],
      "metadata": {
        "id": "EqngrdOl0KIm",
        "outputId": "5c542131-2f0b-4e99-b3c1-28f9e084243f",
        "colab": {
          "base_uri": "https://localhost:8080/"
        }
      },
      "execution_count": 140,
      "outputs": [
        {
          "output_type": "stream",
          "name": "stdout",
          "text": [
            "Normal Accuracy: 0.3680354505169867\n"
          ]
        }
      ]
    },
    {
      "cell_type": "code",
      "execution_count": 131,
      "metadata": {
        "colab": {
          "base_uri": "https://localhost:8080/"
        },
        "id": "0BgDhOlzYloq",
        "outputId": "34b93d38-bd0a-404d-f07b-28eef423e1a3"
      },
      "outputs": [
        {
          "output_type": "execute_result",
          "data": {
            "text/plain": [
              "array([10, 17, 17, 18, 14, 15, 17,  1, 10, 15, 14, 17,  1,  5, 17, 10, 14,\n",
              "       10, 14, 14, 14,  1,  6, 10, 17,  1, 14, 18, 18, 18, 16, 15, 10,  5,\n",
              "       15, 15, 17, 15, 15,  8, 18, 15, 18,  1, 10,  5,  1,  8, 14,  6,  1,\n",
              "        1, 14, 17, 18,  5,  6,  5, 16, 17, 18, 14, 14, 17, 10, 18,  1,  5,\n",
              "       14, 15, 10, 15,  1,  6, 17, 17,  6, 15, 18,  5, 18,  5,  5, 10, 10,\n",
              "       18, 10, 15, 14, 14,  1, 18, 15, 10, 17, 15,  1, 14, 10, 10],\n",
              "      dtype=uint8)"
            ]
          },
          "metadata": {},
          "execution_count": 131
        }
      ],
      "source": [
        "y_pred[0:100]"
      ]
    },
    {
      "cell_type": "markdown",
      "metadata": {
        "id": "qERsKnbIYloq"
      },
      "source": [
        "### Confusion matrix\n",
        "[What is confusion matrix?](https://machinelearningmastery.com/confusion-matrix-machine-learning/)"
      ]
    },
    {
      "cell_type": "code",
      "execution_count": 133,
      "metadata": {
        "colab": {
          "base_uri": "https://localhost:8080/",
          "height": 1000
        },
        "id": "Ds6LgJ57Yloq",
        "outputId": "af507734-267c-4d26-ebfd-5acde1c0071d"
      },
      "outputs": [
        {
          "output_type": "display_data",
          "data": {
            "text/plain": [
              "<Figure size 1440x1440 with 2 Axes>"
            ],
            "image/png": "[encoded data removed]"
          },
          "metadata": {}
        }
      ],
      "source": [
        "from matplotlib.colors import LogNorm, Normalize\n",
        "results = confusion_matrix(y_test, y_pred)\n",
        "df_cm = pd.DataFrame(results, range(10), range(10))\n",
        "plt.figure(figsize=(20,20))\n",
        "sns.set(font_scale=1.4) # for label size\n",
        "sns.heatmap(df_cm, annot=True, annot_kws={\"size\": 16}, norm=LogNorm()) # font size\n",
        "plt.show()"
      ]
    },
    {
      "cell_type": "markdown",
      "metadata": {
        "id": "go0lSL4WYloq"
      },
      "source": [
        "## Model Interpretation"
      ]
    },
    {
      "cell_type": "code",
      "execution_count": null,
      "metadata": {
        "id": "qHmZSI0NYloq",
        "outputId": "00d1b4e3-aa89-44a1-8383-465c7dbe8952"
      },
      "outputs": [
        {
          "data": {
            "text/plain": [
              "12    0.104299\n",
              "11    0.101436\n",
              "9     0.099431\n",
              "1     0.095801\n",
              "8a    0.094142\n",
              "8     0.085731\n",
              "7     0.078586\n",
              "2     0.077536\n",
              "5     0.066588\n",
              "6     0.066498\n",
              "4     0.065195\n",
              "3     0.064757\n",
              "dtype: float64"
            ]
          },
          "execution_count": 82,
          "metadata": {},
          "output_type": "execute_result"
        }
      ],
      "source": [
        "pd.Series(clf.feature_importances_, index=['1', '2', '3', '4', '5', '6', '7', '8','9','11','12','8a']).sort_values(ascending=False)"
      ]
    },
    {
      "cell_type": "markdown",
      "metadata": {
        "id": "Qeq4Mr4qYlor"
      },
      "source": [
        "# Data visualization"
      ]
    },
    {
      "cell_type": "code",
      "execution_count": null,
      "metadata": {
        "id": "AM3zhwhcYlor"
      },
      "outputs": [],
      "source": [
        "#### Example plotting functions to display S2 data in Python\n",
        "\n",
        "def show_band_matrix():\n",
        "    fig, axes = plt.subplots(nrows=3, ncols=6, figsize=(50,25))\n",
        "    plt.suptitle(\"Sentinel-2 Bands\", fontsize=60)\n",
        "    band_count = 1\n",
        "    for i,ax_row in enumerate(axes):\n",
        "        for j, ax_col in enumerate(ax_row):\n",
        "            if i == 0: # Multichannel bands\n",
        "                title = IMG_TITLES[j]\n",
        "                imband = np.asarray([np.asarray(df[BAND_NAMES[j]]).reshape( \\\n",
        "                         WIDTH, HEIGHT), np.asarray(df[BAND_NAMES[j]+'_1']).reshape(WIDTH, \\\n",
        "                         HEIGHT), np.asarray(df[BAND_NAMES[j]+'_1_2']).reshape(WIDTH, HEIGHT)]).T\n",
        "            elif i == 2 and j == 3: # Special case for 8a band\n",
        "                title = 'b8a'\n",
        "                imband = np.asarray(df[title]).reshape(WIDTH, HEIGHT).T\n",
        "                band_count += 1\n",
        "            else: # Individual bands\n",
        "                title = 'b' + str(band_count).zfill(2)\n",
        "                imband = np.asarray(df[title]).reshape(WIDTH, HEIGHT).T\n",
        "                band_count += 1\n",
        "            \n",
        "            axes[i][j].set_title(title)\n",
        "            axes[i][j].imshow(imband, aspect='auto')\n",
        "            axes[i][j].set_axis_off()\n",
        "\n",
        "def show_land_cover():\n",
        "    fig, (ax, ax2) = plt.subplots(nrows=1, ncols=2, figsize=(40,15))\n",
        "    ax.set_title(\"NRCan - 2015 Land Cover of Canada\")\n",
        "    cmap = cm.get_cmap('jet', 7)    # 11 discrete colors\n",
        "    im = ax.imshow(np.asarray(df.land_cover).reshape(WIDTH, HEIGHT).T, cmap=cmap, aspect='auto')\n",
        "    ax.set_axis_off()\n",
        "    cbar = plt.colorbar(im, ax=ax)\n",
        "    tick_locs = (np.arange(7) + 0.5)*(7-1)/7\n",
        "    cbar.set_ticks(tick_locs)\n",
        "    cbar.set_ticklabels(LAND_COVER_TYPES)\n",
        "    \n",
        "    ax2.grid(linestyle='--')\n",
        "    dp = sns.distplot(df.land_cover, hist=False, kde_kws=dict(linewidth=8))\n",
        "    ax2.set_xticks(np.arange(7))\n",
        "    ax2.set_xticklabels(LAND_COVER_TYPES, fontsize=20)\n",
        "    l1 = ax2.lines[0]\n",
        "    x1 = l1.get_xydata()[:,0]\n",
        "    y1 = l1.get_xydata()[:,1]\n",
        "    ax2.fill_between(x1,y1, color=\"#5471ab\", alpha=0.3)\n",
        "    ax2.set_xlabel(\"Land Cover Type\")\n",
        "    ax2.set_title(\"Land Cover Density\")\n",
        "\n",
        "show_band_matrix()\n",
        "show_land_cover()\n",
        "\n"
      ]
    }
  ],
  "metadata": {
    "interpreter": {
      "hash": "f2db70108314089b6e4751ee038267274a220cfc846cc3db10a94220317f85ee"
    },
    "kernelspec": {
      "display_name": "Python 3.9.7 ('base')",
      "language": "python",
      "name": "python3"
    },
    "language_info": {
      "codemirror_mode": {
        "name": "ipython",
        "version": 3
      },
      "file_extension": ".py",
      "mimetype": "text/x-python",
      "name": "python",
      "nbconvert_exporter": "python",
      "pygments_lexer": "ipython3",
      "version": "3.9.7"
    },
    "orig_nbformat": 4,
    "colab": {
      "name": "eda.ipynb",
      "provenance": [],
      "include_colab_link": true
    },
    "accelerator": "GPU"
  },
  "nbformat": 4,
  "nbformat_minor": 0
}